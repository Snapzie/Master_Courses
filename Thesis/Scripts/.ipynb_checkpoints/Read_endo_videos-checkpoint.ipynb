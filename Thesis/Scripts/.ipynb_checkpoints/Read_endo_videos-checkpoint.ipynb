{
 "cells": [
  {
   "cell_type": "code",
   "execution_count": 1,
   "id": "6eea0467-787d-4495-b442-3a5cccf6b094",
   "metadata": {},
   "outputs": [],
   "source": [
    "import cv2"
   ]
  },
  {
   "cell_type": "code",
   "execution_count": 9,
   "id": "45ce7225-20e4-421b-a9af-b9e5855f1432",
   "metadata": {},
   "outputs": [
    {
     "name": "stdout",
     "output_type": "stream",
     "text": [
      "True\n"
     ]
    }
   ],
   "source": [
    "vidcap = cv2.VideoCapture('/Users/casper/Documents/Uni/Thesis/Data/EAED_1FBFA_0A.E3M02')\n",
    "success,image = vidcap.read()\n",
    "print(success)"
   ]
  },
  {
   "cell_type": "code",
   "execution_count": 10,
   "id": "a421d5fc-8ee3-41de-893d-7686b5c50b79",
   "metadata": {},
   "outputs": [],
   "source": [
    "count = 0\n",
    "while success:\n",
    "  cv2.imwrite(\"/Users/casper/Documents/Uni/Thesis/Data/EAED_1FBFA_0A_frames/frame%d.jpg\" % count, image)     # save frame as JPEG file      \n",
    "  success,image = vidcap.read()\n",
    "  #print('Read a new frame: ', success)\n",
    "  count += 1"
   ]
  },
  {
   "cell_type": "code",
   "execution_count": 11,
   "id": "912550f4-c789-48b3-a04b-e9084e5c59ec",
   "metadata": {},
   "outputs": [
    {
     "name": "stdout",
     "output_type": "stream",
     "text": [
      "3300\n"
     ]
    }
   ],
   "source": [
    "print(count)"
   ]
  },
  {
   "cell_type": "code",
   "execution_count": null,
   "id": "5bc3071f-b382-4f65-98e3-b45d91fcf71c",
   "metadata": {},
   "outputs": [],
   "source": []
  }
 ],
 "metadata": {
  "kernelspec": {
   "display_name": "Python 3",
   "language": "python",
   "name": "python3"
  },
  "language_info": {
   "codemirror_mode": {
    "name": "ipython",
    "version": 3
   },
   "file_extension": ".py",
   "mimetype": "text/x-python",
   "name": "python",
   "nbconvert_exporter": "python",
   "pygments_lexer": "ipython3",
   "version": "3.8.8"
  }
 },
 "nbformat": 4,
 "nbformat_minor": 5
}
