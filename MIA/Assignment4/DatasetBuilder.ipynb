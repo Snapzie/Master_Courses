{
 "cells": [
  {
   "cell_type": "code",
   "execution_count": 1,
   "metadata": {},
   "outputs": [],
   "source": [
    "import numpy as np\n",
    "import pandas as pd\n",
    "import matplotlib.pyplot as plt\n",
    "import math\n",
    "import cv2\n",
    "import os"
   ]
  },
  {
   "cell_type": "code",
   "execution_count": 2,
   "metadata": {},
   "outputs": [
    {
     "name": "stdout",
     "output_type": "stream",
     "text": [
      "(899,) (899,)\n"
     ]
    }
   ],
   "source": [
    "df = pd.read_csv('SkinLesionTraining_GroundTruth.csv')\n",
    "ground_truths = df.to_numpy()\n",
    "file_names = ground_truths[:,0]\n",
    "labels = ground_truths[:,1]\n",
    "print(file_names.shape,labels.shape)"
   ]
  },
  {
   "cell_type": "code",
   "execution_count": 4,
   "metadata": {},
   "outputs": [
    {
     "name": "stdout",
     "output_type": "stream",
     "text": [
      "(899,)\n"
     ]
    },
    {
     "name": "stderr",
     "output_type": "stream",
     "text": [
      "<ipython-input-4-9c8aa519dd47>:1: VisibleDeprecationWarning: Creating an ndarray from ragged nested sequences (which is a list-or-tuple of lists-or-tuples-or ndarrays with different lengths or shapes) is deprecated. If you meant to do this, you must specify 'dtype=object' when creating the ndarray\n",
      "  images = np.array([plt.imread('SkinLesionTrainingData/'+file+'.jpg') for file in file_names])\n"
     ]
    }
   ],
   "source": [
    "images = np.array([plt.imread('SkinLesionTrainingData/'+file+'.jpg') for file in file_names])\n",
    "print(images.shape)"
   ]
  },
  {
   "cell_type": "markdown",
   "metadata": {},
   "source": [
    "# Square and downscale"
   ]
  },
  {
   "cell_type": "code",
   "execution_count": 54,
   "metadata": {},
   "outputs": [],
   "source": [
    "for image,file_name in zip(images,file_names):\n",
    "    Y,X,_ = image.shape\n",
    "    pad = Y-X\n",
    "    if(np.sign(pad) == -1):\n",
    "        pad *= -1\n",
    "        new_im = cv2.resize(np.pad(image,((math.ceil(pad),math.floor(pad)),(0,0),(0,0))),(256,256))\n",
    "        plt.imsave('Squared_and_downscaled/'+file_name+'.jpg',new_im)\n",
    "    elif(np.sign(pad) == 1):\n",
    "        new_im = cv2.resize(np.pad(image,((0,0),(math.ceil(pad),math.floor(pad)),(0,0))),(256,256))\n",
    "        plt.imsave('Squared_and_downscaled/'+file_name+'.jpg',new_im)\n",
    "    else:\n",
    "        new_im = cv2.resize(image,(256,256))\n",
    "        plt.imsave('Squared_and_downscaled/'+file_name+'.jpg',new_im)"
   ]
  },
  {
   "cell_type": "markdown",
   "metadata": {},
   "source": [
    "# Split data"
   ]
  },
  {
   "cell_type": "code",
   "execution_count": 69,
   "metadata": {},
   "outputs": [
    {
     "name": "stdout",
     "output_type": "stream",
     "text": [
      "(899, 256, 256, 3)\n"
     ]
    }
   ],
   "source": [
    "images = np.array([plt.imread('Squared_and_downscaled/'+file+'.jpg') for file in file_names])\n",
    "print(images.shape)"
   ]
  },
  {
   "cell_type": "code",
   "execution_count": 5,
   "metadata": {},
   "outputs": [
    {
     "name": "stdout",
     "output_type": "stream",
     "text": [
      "(765,) (134,)\n",
      "(765,) (134,)\n",
      "(765,) (134,)\n"
     ]
    }
   ],
   "source": [
    "ones = np.ones(math.ceil(899*0.85))\n",
    "zeros = np.zeros(math.floor(899*0.15))\n",
    "mask = np.concatenate((ones,zeros))\n",
    "np.random.shuffle(mask)\n",
    "im_training = images[mask == 1]\n",
    "im_val = images[mask == 0]\n",
    "labels_training = labels[mask == 1]\n",
    "labels_val = labels[mask == 0]\n",
    "names_training = file_names[mask==1]\n",
    "names_val = file_names[mask==0]\n",
    "print(im_training.shape,im_val.shape)\n",
    "print(labels_training.shape,labels_val.shape)\n",
    "print(names_training.shape,names_val.shape)"
   ]
  },
  {
   "cell_type": "code",
   "execution_count": 12,
   "metadata": {},
   "outputs": [],
   "source": [
    "for im,label,name in zip(im_training,labels_training,names_training):\n",
    "    if(label == 'benign'):\n",
    "        plt.imsave('Split_org_size_data/training/benign/'+name+'.jpg',im)\n",
    "    elif(label == 'malignant'):\n",
    "        plt.imsave('Split_org_size_data/training/malignant/'+name+'.jpg',im)\n",
    "    else:\n",
    "        print('error')\n",
    "\n",
    "for im,label,name in zip(im_val,labels_val,names_val):\n",
    "    if(label == 'benign'):\n",
    "        plt.imsave('Split_org_size_data/validation/benign/'+name+'.jpg',im)\n",
    "    elif(label == 'malignant'):\n",
    "        plt.imsave('Split_org_size_data/validation/malignant/'+name+'.jpg',im)\n",
    "    else:\n",
    "        print('error')"
   ]
  },
  {
   "cell_type": "code",
   "execution_count": 13,
   "metadata": {},
   "outputs": [
    {
     "name": "stdout",
     "output_type": "stream",
     "text": [
      "620\n",
      "145\n",
      "106\n",
      "28\n"
     ]
    }
   ],
   "source": [
    "print(len(os.listdir('Split_org_size_data/training/benign')))\n",
    "print(len(os.listdir('Split_org_size_data/training/malignant')))\n",
    "print(len(os.listdir('Split_org_size_data/validation/benign')))\n",
    "print(len(os.listdir('Split_org_size_data/validation/malignant')))"
   ]
  },
  {
   "cell_type": "code",
   "execution_count": 14,
   "metadata": {},
   "outputs": [
    {
     "data": {
      "text/plain": [
       "899"
      ]
     },
     "execution_count": 14,
     "metadata": {},
     "output_type": "execute_result"
    }
   ],
   "source": [
    "620+145+106+28"
   ]
  },
  {
   "cell_type": "code",
   "execution_count": null,
   "metadata": {},
   "outputs": [],
   "source": []
  },
  {
   "cell_type": "code",
   "execution_count": 29,
   "metadata": {},
   "outputs": [
    {
     "name": "stdout",
     "output_type": "stream",
     "text": [
      "758\n",
      "378\n"
     ]
    }
   ],
   "source": [
    "df = pd.read_csv('results.csv')\n",
    "res_labels = df.to_numpy()[:,0]\n",
    "labels = np.array(os.listdir('skinLesionTestData'))\n",
    "labels = np.array(list(map(lambda x: x[0:-4],labels)))\n",
    "print(len(labels))\n",
    "#print(res_labels[1])\n",
    "#print(np.isin(labels,res_labels))\n",
    "filtered = labels[np.isin(labels,res_labels)]\n",
    "print(len(filtered))"
   ]
  },
  {
   "cell_type": "code",
   "execution_count": 10,
   "metadata": {},
   "outputs": [
    {
     "data": {
      "text/plain": [
       "array([ True, False, False])"
      ]
     },
     "execution_count": 10,
     "metadata": {},
     "output_type": "execute_result"
    }
   ],
   "source": [
    "np.isin([1,2,3],[1,4,5])"
   ]
  },
  {
   "cell_type": "code",
   "execution_count": 30,
   "metadata": {},
   "outputs": [
    {
     "data": {
      "text/plain": [
       "379.0"
      ]
     },
     "execution_count": 30,
     "metadata": {},
     "output_type": "execute_result"
    }
   ],
   "source": [
    "758/2"
   ]
  },
  {
   "cell_type": "code",
   "execution_count": null,
   "metadata": {},
   "outputs": [],
   "source": []
  }
 ],
 "metadata": {
  "kernelspec": {
   "display_name": "Python 3",
   "language": "python",
   "name": "python3"
  },
  "language_info": {
   "codemirror_mode": {
    "name": "ipython",
    "version": 3
   },
   "file_extension": ".py",
   "mimetype": "text/x-python",
   "name": "python",
   "nbconvert_exporter": "python",
   "pygments_lexer": "ipython3",
   "version": "3.8.8"
  }
 },
 "nbformat": 4,
 "nbformat_minor": 4
}
