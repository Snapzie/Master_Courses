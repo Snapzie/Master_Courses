{
 "cells": [
  {
   "cell_type": "markdown",
   "metadata": {},
   "source": [
    "# Computational Methods in Simulation (CMIS) Week 4\n",
    "This notebook is intended to help students make their hand-in in this week of CMIS.\n",
    "\n",
    "Hand-ins must be submitted as a maximum 3 page pdf file in Absalon and must be made using the ACM TOG overleaf latex template\n",
    "\n",
    "https://www.overleaf.com/latex/templates/association-for-computing-machinery-acm-large-2-column-format-template/qwcgpbmkkvpq\n",
    "\n",
    "Notebooks must be uploaded as well so teachers have code solutions accessible if needed."
   ]
  },
  {
   "cell_type": "markdown",
   "metadata": {},
   "source": [
    "This week is based on Slides 19\n",
    "\n",
    "* 1D Poisson Problem\n",
    "    * Make an implementation of the 1D example. Use the values $x_1 = 1$, $x_n = 2$, $\\Delta x = 0.1$, $a = 1$, $b = 2$, $c = 0$.\n",
    "    * Start by making a sketch on paper showing how you expect $y(x)$ to look like.\n",
    "    * Discuss which parts of the algorithm that is embarrassingly parallel. \n",
    "    * If you have extra time consider rewriting the parts that have race conditions to become embarrassingly parallel.\n",
    "    * Consider using an iterative method (like Conjugate Gradient) for solving the reduced system, can you suggest any optimizations? (Hint: do not actually assemble the global matrix)\n",
    "\n",
    "\n",
    "* 2D Poisson Problem\n",
    "    * Derive the formula for $K_e$ and $f_e$ in full detail for the 2D example.\n",
    "    * Make an implementation of the 2D example on a rectangular domain that is 6-by-2 in size.\n",
    "    * Set $a = 1$ on the left edge of the rectangle and $a = 2$ on the right size.\n",
    "    * Use $c = 0$\n",
    "    * Treat boundary conditions as point wise conditions\n",
    "    * Discuss from a computer scientist viewpoint which steps are the same and which steps that are different compared to the 1D example."
   ]
  },
  {
   "cell_type": "markdown",
   "metadata": {},
   "source": [
    "## Detailed Expected Learning Objectives in The Hand-in of this Week\n",
    "\n",
    "* Explain the steps of the FEM method.\n",
    "* Account for terminology such as test and shape/basis functions.\n",
    "* Explain how linear shape functions are applied in Galerkin FEM.\n",
    "* Apply the steps of FEM method from simple 1D and 2D problems like Heat diffusion.\n",
    "* Apply experimental verification to ones implementation of a FEM."
   ]
  },
  {
   "cell_type": "code",
   "execution_count": 1,
   "metadata": {},
   "outputs": [],
   "source": [
    "%matplotlib widget"
   ]
  },
  {
   "cell_type": "code",
   "execution_count": 2,
   "metadata": {},
   "outputs": [],
   "source": [
    "import igl\n",
    "import meshplot as mp\n",
    "import numpy as np\n",
    "import matplotlib.pyplot as plt\n",
    "import wildmeshing as wm"
   ]
  },
  {
   "cell_type": "markdown",
   "metadata": {},
   "source": [
    "# The 1D Poisson Problem solved with Linear Finite Element Method\n",
    "\n",
    "We first compute an array Ke of local elementwise values. Aftewards we assemble the local values into a global martix and vector. First we ignore boundary conditions and simply just fill in values. We expect to have one-zero eigenvalue of this type of problem as we have not yet added boundary conditions. Due to precision and round-off errors the numerical computed eigenvalues may not be exactly zero but close to machine epsilon."
   ]
  },
  {
   "cell_type": "code",
   "execution_count": 2,
   "metadata": {},
   "outputs": [],
   "source": [
    "dx = 0.1\n",
    "x  = np.linspace(1.0, 2.0, 10)\n",
    "N  = len(x)\n",
    "Ke = np.zeros((2,(N-1)*2),dtype=np.float64) # 18,2\n",
    "K  = np.zeros((N,N),dtype=np.float64) # 10,10\n",
    "f  = np.zeros((N,),dtype=np.float64) # 10,\n",
    "\n",
    "part = np.array([[1,(-1)],[(-1),1]])\n",
    "for e in range(N-1):\n",
    "    i = e\n",
    "    j = i+2\n",
    "    # TODO - compute Ke\n",
    "    tmp = 1/dx*(part)\n",
    "    Ke[:,e+i:e+j] = tmp\n",
    "    \n",
    "\n",
    "for e in range(N-1):\n",
    "    i = e\n",
    "    j = i+1\n",
    "    \n",
    "    # TODO - Assemble Ke into global K\n",
    "    K[i,i] += Ke[0,e+i]\n",
    "    K[i,j] += Ke[0,e+j]\n",
    "    K[j,i] += Ke[1,e+i]\n",
    "    K[j,j] += Ke[1,e+j]\n",
    "    "
   ]
  },
  {
   "cell_type": "code",
   "execution_count": 3,
   "metadata": {},
   "outputs": [
    {
     "data": {
      "text/plain": [
       "array([[ 10., -10.,   0.,   0.,   0.,   0.,   0.,   0.,   0.,   0.],\n",
       "       [-10.,  20., -10.,   0.,   0.,   0.,   0.,   0.,   0.,   0.],\n",
       "       [  0., -10.,  20., -10.,   0.,   0.,   0.,   0.,   0.,   0.],\n",
       "       [  0.,   0., -10.,  20., -10.,   0.,   0.,   0.,   0.,   0.],\n",
       "       [  0.,   0.,   0., -10.,  20., -10.,   0.,   0.,   0.,   0.],\n",
       "       [  0.,   0.,   0.,   0., -10.,  20., -10.,   0.,   0.,   0.],\n",
       "       [  0.,   0.,   0.,   0.,   0., -10.,  20., -10.,   0.,   0.],\n",
       "       [  0.,   0.,   0.,   0.,   0.,   0., -10.,  20., -10.,   0.],\n",
       "       [  0.,   0.,   0.,   0.,   0.,   0.,   0., -10.,  20., -10.],\n",
       "       [  0.,   0.,   0.,   0.,   0.,   0.,   0.,   0., -10.,  10.]])"
      ]
     },
     "execution_count": 3,
     "metadata": {},
     "output_type": "execute_result"
    }
   ],
   "source": [
    "K"
   ]
  },
  {
   "cell_type": "markdown",
   "metadata": {},
   "source": [
    "Before doing more we want to verify if the assembly process was done correctly. We do this by studying the matrix fill pattern and the eigenvalue spectrum. "
   ]
  },
  {
   "cell_type": "code",
   "execution_count": 4,
   "metadata": {},
   "outputs": [
    {
     "data": {
      "image/png": "[encoded data removed]",
      "text/plain": [
       "<Figure size 432x288 with 1 Axes>"
      ]
     },
     "metadata": {
      "needs_background": "light"
     },
     "output_type": "display_data"
    },
    {
     "data": {
      "image/png": "[encoded data removed]",
      "text/plain": [
       "<Figure size 432x288 with 1 Axes>"
      ]
     },
     "metadata": {
      "needs_background": "light"
     },
     "output_type": "display_data"
    }
   ],
   "source": [
    "fig = plt.figure()\n",
    "ax = plt.subplot(111)\n",
    "plt.spy(K);\n",
    "ax.set_title('Fill pattern of matrix');\n",
    "ax.set_ylabel('Row index');\n",
    "ax.set_xlabel('Column index');\n",
    "plt.show()\n",
    "\n",
    "fig = plt.figure()\n",
    "d, _ = np.linalg.eig(K)\n",
    "plt.plot(np.sort( d ) );\n",
    "ax.set_title('Eigenvalues of matrix');\n",
    "ax.set_xlabel('Eigenvalue Index')\n",
    "ax.set_ylabel('Value');\n",
    "plt.show()"
   ]
  },
  {
   "cell_type": "markdown",
   "metadata": {},
   "source": [
    "After we have verified the assembly was done correctly we can apply boundary conditions. After we have added the boundary conditions we have reduced the number of variables to solve for."
   ]
  },
  {
   "cell_type": "code",
   "execution_count": 5,
   "metadata": {},
   "outputs": [],
   "source": [
    "a = 1;\n",
    "b = 2;\n",
    "\n",
    "indices = np.array([0, N-1],dtype=int)\n",
    "values  = np.array([a, b],dtype=np.float64)\n",
    "\n",
    "F = np.setdiff1d(np.arange(N), indices)\n",
    "\n",
    "for i in range(len(indices)):\n",
    "    index = indices[i]\n",
    "    value = values[i]  \n",
    "  \n",
    "    # TODO - Implement modifications for adding boundary conditions\n",
    "    f[index] = value\n",
    "    \n",
    "    for j in F:\n",
    "        f[j] -= K[j,index]*value\n",
    "    \n",
    "    \n",
    "    K[index] = np.zeros(K.shape[1])\n",
    "    K[:,index] = np.zeros(K.shape[0]).T\n",
    "    K[index,index] = 1\n",
    "\n",
    "\n",
    "# Magic! (ind slides)\n",
    "y = np.zeros(f.shape, dtype=np.float64)\n",
    "\n",
    "y[indices] = values\n",
    "\n",
    "KFF = K[F,:][:,F]\n",
    "fF  = f[F]\n",
    "\n",
    "y[F] = np.linalg.solve(KFF, fF)"
   ]
  },
  {
   "cell_type": "code",
   "execution_count": 6,
   "metadata": {},
   "outputs": [
    {
     "data": {
      "text/plain": [
       "array([1, 2, 3, 4, 5, 6, 7, 8])"
      ]
     },
     "execution_count": 6,
     "metadata": {},
     "output_type": "execute_result"
    }
   ],
   "source": [
    "F"
   ]
  },
  {
   "cell_type": "markdown",
   "metadata": {},
   "source": [
    "We can now plot the solution. We expect a straight line going from a-value to b-value."
   ]
  },
  {
   "cell_type": "code",
   "execution_count": 7,
   "metadata": {},
   "outputs": [
    {
     "data": {
      "image/png": "[encoded data removed]",
      "text/plain": [
       "<Figure size 432x288 with 1 Axes>"
      ]
     },
     "metadata": {
      "needs_background": "light"
     },
     "output_type": "display_data"
    }
   ],
   "source": [
    "fig = plt.figure(3)\n",
    "ax = plt.subplot(111)\n",
    "plt.plot(x,y,'b')\n",
    "ax.set_title('The approximate solution')\n",
    "ax.set_xlabel('x')\n",
    "ax.set_ylabel('y')\n",
    "plt.show()"
   ]
  },
  {
   "cell_type": "markdown",
   "metadata": {},
   "source": [
    "# The 2D Poisson Problem solved with linear Finite Element Method\n",
    "The 2D Poisson problem procedes in nearly the same way excpet that having both x and y coordinates increases the dimensionality slightly.\n",
    "\n",
    "We will reuse the beam mesh generator from week 3 to create a computational mesh for the 2D problem"
   ]
  },
  {
   "cell_type": "code",
   "execution_count": 75,
   "metadata": {},
   "outputs": [],
   "source": [
    "def make_beam_mesh(width, height, shape):\n",
    "    x0 = -width/2.0\n",
    "    y0 = -height/2.0\n",
    "    I  = shape[0]\n",
    "    J  = shape[1]\n",
    "    dx = width/float(I)\n",
    "    dy = height/float(J)\n",
    "    V = np.zeros(((I+1)*(J+1),2),dtype=np.float64)\n",
    "    for j in range(J+1):\n",
    "        for i in range(I+1):\n",
    "            k = i + j*(I+1)\n",
    "            V[k,0] = x0 + i*dx\n",
    "            V[k,1] = y0 + j*dy\n",
    "    T = np.zeros((2*I*J,3),dtype=np.int32)\n",
    "    for j in range(J):\n",
    "        for i in range(I):\n",
    "            k00 = (i  ) + (j  )*(I+1)\n",
    "            k01 = (i+1) + (j  )*(I+1)\n",
    "            k10 = (i  ) + (j+1)*(I+1)\n",
    "            k11 = (i+1) + (j+1)*(I+1)\n",
    "            e = 2*(i + j*I)\n",
    "            if (i+j)%2:\n",
    "                T[e,  :] = (k00,k01,k11)\n",
    "                T[e+1,:] = (k00,k11,k10)\n",
    "            else:\n",
    "                T[e,  :] = (k10,k00,k01)\n",
    "                T[e+1,:] = (k10,k01,k11)                    \n",
    "    return V, T\n",
    "\n",
    "V, T = make_beam_mesh(6.0,2.0,(6*6,2*6))\n",
    "#p = mp.plot(V, T, return_plot=True, shading={\"wireframe\": True})"
   ]
  },
  {
   "cell_type": "markdown",
   "metadata": {},
   "source": [
    "We will extend with a little auxiliary function that computes the triangle area for each triangle and return a vector with all triangle area values."
   ]
  },
  {
   "cell_type": "code",
   "execution_count": 76,
   "metadata": {},
   "outputs": [],
   "source": [
    "def compute_triangle_areas(V,T):\n",
    "    E = len(T) # Total number of triangles in the mesh\n",
    "    A = np.zeros((E,),dtype=np.float64)\n",
    "    for e in range(E):\n",
    "        # Get triangle indices\n",
    "        i = T[e,0]\n",
    "        j = T[e,1]\n",
    "        k = T[e,2]\n",
    "        # Get triangle coordinates\n",
    "        xi = V[i,0]\n",
    "        xj = V[j,0]\n",
    "        xk = V[k,0]\n",
    "        yi = V[i,1]\n",
    "        yj = V[j,1]\n",
    "        yk = V[k,1]    \n",
    "        \n",
    "        dx1 = xk - xj\n",
    "        dy1 = yk - yj\n",
    "        dx2 = xi - xj\n",
    "        dy2 = yi - yj\n",
    "\n",
    "        A[e] =  (dx1*dy2 - dx2*dy1 ) / 2.0\n",
    "    return A\n",
    "\n",
    "A = compute_triangle_areas(V,T)"
   ]
  },
  {
   "cell_type": "markdown",
   "metadata": {},
   "source": [
    "We now have all pieces in place and can start on compute the local element values followed by our assembly process."
   ]
  },
  {
   "cell_type": "code",
   "execution_count": 77,
   "metadata": {},
   "outputs": [],
   "source": [
    "N = len(V) # Total number of nodes in the mesh\n",
    "E = len(T) # Total number of triangles in the mesh\n",
    "\n",
    "Ke = np.zeros((3,E*3),dtype=np.float64)\n",
    "K  = np.zeros((N,N),dtype=np.float64) \n",
    "f  = (np.ones((N,),dtype=np.float64))*(1/((6*6)*(2*6)))\n",
    "\n",
    "for e in range(E):\n",
    "    # Get triangle indices\n",
    "    i = T[e,0]\n",
    "    j = T[e,1]\n",
    "    k = T[e,2]\n",
    "    # Get triangle coordinates\n",
    "    xi = V[i,0]\n",
    "    xj = V[j,0]\n",
    "    xk = V[k,0]\n",
    "    yi = V[i,1]\n",
    "    yj = V[j,1]\n",
    "    yk = V[k,1]    \n",
    "    \n",
    "    # TODO - Compute element matrix and store it in Ke array\n",
    "    Area = A[e]\n",
    "    diff_i_x = -(yk-yj)/(2*Area)\n",
    "    diff_i_y = (xk-xj)/(2*Area)\n",
    "    \n",
    "    diff_j_x = -(yi-yk)/(2*Area)\n",
    "    diff_j_y = (xi-xk)/(2*Area)\n",
    "    \n",
    "    diff_k_x = -(yj-yi)/(2*Area)\n",
    "    diff_k_y = (xj-xi)/(2*Area)\n",
    "    \n",
    "    xs = np.array([diff_i_x,diff_j_x,diff_k_x])\n",
    "    ys = np.array([diff_i_y,diff_j_y,diff_k_y])\n",
    "    \n",
    "    \n",
    "    Ke[ :, (3*e):3*e+3 ] =  (np.outer(xs,xs)+np.outer(ys,ys))*Area\n",
    "\n",
    "for e in range(E):\n",
    "    # Get global triangle vertex indices\n",
    "    i = T[e,0]\n",
    "    j = T[e,1]\n",
    "    k = T[e,2]\n",
    "    # Local order of vertex coordinates is i j and k. \n",
    "    # This is how local vertex indices (0,1,2) are mapped to global vertex\n",
    "    # indices\n",
    "    gidx = [ i, j,  k]\n",
    "    \n",
    "    # TODO - do assembly of Ke into K\n",
    "    #K[ (3*e):3*e+3, (3*e):3*e+3 ] +=\n",
    "    \n",
    "    for fst in range(3):\n",
    "        for snd in range(3):\n",
    "            K[gidx[fst],gidx[snd]] += Ke[fst,e*3+snd]\n",
    "    "
   ]
  },
  {
   "cell_type": "code",
   "execution_count": 78,
   "metadata": {},
   "outputs": [
    {
     "data": {
      "text/plain": [
       "array([9.07749722e-16, 1.30985135e-01, 4.87717413e-01, 7.41710091e-01])"
      ]
     },
     "execution_count": 78,
     "metadata": {},
     "output_type": "execute_result"
    }
   ],
   "source": [
    "np.sort(d)[:4]"
   ]
  },
  {
   "cell_type": "markdown",
   "metadata": {},
   "source": [
    "We visually verify the assembly process by observing the expected symmetry pattern. The eigenvalue analysis should this time show that we have 2 zero eigenvalues."
   ]
  },
  {
   "cell_type": "code",
   "execution_count": 79,
   "metadata": {},
   "outputs": [
    {
     "name": "stderr",
     "output_type": "stream",
     "text": [
      "/Users/Shared/anaconda3/lib/python3.7/site-packages/ipykernel_launcher.py:1: RuntimeWarning: More than 20 figures have been opened. Figures created through the pyplot interface (`matplotlib.pyplot.figure`) are retained until explicitly closed and may consume too much memory. (To control this warning, see the rcParam `figure.max_open_warning`).\n",
      "  \"\"\"Entry point for launching an IPython kernel.\n"
     ]
    },
    {
     "data": {
      "application/vnd.jupyter.widget-view+json": {
       "model_id": "9e0be926dc3f4fb7a481b6e5caa134b2",
       "version_major": 2,
       "version_minor": 0
      },
      "text/plain": [
       "Canvas(toolbar=Toolbar(toolitems=[('Home', 'Reset original view', 'home', 'home'), ('Back', 'Back to previous …"
      ]
     },
     "metadata": {},
     "output_type": "display_data"
    },
    {
     "name": "stderr",
     "output_type": "stream",
     "text": [
      "/Users/Shared/anaconda3/lib/python3.7/site-packages/ipykernel_launcher.py:10: RuntimeWarning: More than 20 figures have been opened. Figures created through the pyplot interface (`matplotlib.pyplot.figure`) are retained until explicitly closed and may consume too much memory. (To control this warning, see the rcParam `figure.max_open_warning`).\n",
      "  # Remove the CWD from sys.path while we load stuff.\n"
     ]
    },
    {
     "data": {
      "application/vnd.jupyter.widget-view+json": {
       "model_id": "d582823fa3304f6f80a22f304be92a89",
       "version_major": 2,
       "version_minor": 0
      },
      "text/plain": [
       "Canvas(toolbar=Toolbar(toolitems=[('Home', 'Reset original view', 'home', 'home'), ('Back', 'Back to previous …"
      ]
     },
     "metadata": {},
     "output_type": "display_data"
    }
   ],
   "source": [
    "fig = plt.figure()\n",
    "ax = plt.subplot(111)\n",
    "plt.spy(K);\n",
    "ax.set_title('Fill pattern of matrix');\n",
    "ax.set_ylabel('Row index');\n",
    "ax.set_xlabel('Column index');\n",
    "#plt.colorbar()\n",
    "plt.show()\n",
    "\n",
    "fig = plt.figure()\n",
    "d, _ = np.linalg.eig(K)\n",
    "plt.plot(np.sort( d ) );\n",
    "ax.set_title('Eigenvalues of matrix');\n",
    "ax.set_xlabel('Eigenvalue Index')\n",
    "ax.set_ylabel('Value');\n",
    "plt.show()"
   ]
  },
  {
   "cell_type": "markdown",
   "metadata": {},
   "source": [
    "We may now proceed as before adding boundary conditions"
   ]
  },
  {
   "cell_type": "code",
   "execution_count": 80,
   "metadata": {},
   "outputs": [],
   "source": [
    "a = 1;\n",
    "b = 5;\n",
    "\n",
    "left = np.array( np.where(V[:,0] < -2.9), dtype=int).flatten()\n",
    "right = np.array( np.where(V[:,0] >  2.9), dtype=int).flatten()\n",
    "\n",
    "left_values = np.ones( left.shape, dtype=np.float64)*a\n",
    "#left_values = np.arange((left.shape[0]), dtype=np.float64)*a\n",
    "right_values = np.ones( right.shape, dtype=np.float64)*b\n",
    "\n",
    "indices = np.hstack((left, right))\n",
    "values  = np.hstack((left_values, right_values))\n",
    "\n",
    "F = np.setdiff1d(np.arange(N), indices)\n",
    "\n",
    "for i in range(len(indices)):\n",
    "    index = indices[i]\n",
    "    value = values[i]  \n",
    "  \n",
    "    # TODO - Implement modifications for adding boundary conditions\n",
    "    #print(index,value)\n",
    "    f[index] = value\n",
    "    \n",
    "    for j in F:\n",
    "        f[j] -= K[j,index]*value\n",
    "    \n",
    "    \n",
    "    K[index] = np.zeros(K.shape[1])\n",
    "    K[:,index] = np.zeros(K.shape[0]).T\n",
    "    K[index,index] = 1\n",
    "    \n",
    "    \n",
    "\n",
    "y = np.zeros(f.shape, dtype=np.float64)\n",
    "\n",
    "y[indices] = values\n",
    "\n",
    "KFF = K[F,:][:,F]\n",
    "fF  = f[F]\n",
    "\n",
    "y[F] = np.linalg.solve(KFF, fF)"
   ]
  },
  {
   "cell_type": "code",
   "execution_count": 81,
   "metadata": {},
   "outputs": [
    {
     "data": {
      "text/plain": [
       "13"
      ]
     },
     "execution_count": 81,
     "metadata": {},
     "output_type": "execute_result"
    }
   ],
   "source": [
    "left.shape[0]"
   ]
  },
  {
   "cell_type": "markdown",
   "metadata": {},
   "source": [
    "Finally we can visualize the solution that should show a linear ramp from a to b."
   ]
  },
  {
   "cell_type": "code",
   "execution_count": 82,
   "metadata": {},
   "outputs": [
    {
     "name": "stderr",
     "output_type": "stream",
     "text": [
      "/Users/Shared/anaconda3/lib/python3.7/site-packages/ipykernel_launcher.py:1: RuntimeWarning: More than 20 figures have been opened. Figures created through the pyplot interface (`matplotlib.pyplot.figure`) are retained until explicitly closed and may consume too much memory. (To control this warning, see the rcParam `figure.max_open_warning`).\n",
      "  \"\"\"Entry point for launching an IPython kernel.\n"
     ]
    },
    {
     "data": {
      "application/vnd.jupyter.widget-view+json": {
       "model_id": "e23db15f67514b6ba5125bd5e5de48bb",
       "version_major": 2,
       "version_minor": 0
      },
      "text/plain": [
       "Canvas(toolbar=Toolbar(toolitems=[('Home', 'Reset original view', 'home', 'home'), ('Back', 'Back to previous …"
      ]
     },
     "metadata": {},
     "output_type": "display_data"
    }
   ],
   "source": [
    "fig = plt.figure()\n",
    "\n",
    "plt.tripcolor(V[:,0],V[:,1],T,y)#,cmap='hot')\n",
    "plt.triplot(V[:,0],V[:,1],T)\n",
    "#plt.clim(0,70)\n",
    "plt.colorbar()\n",
    "plt.show()"
   ]
  },
  {
   "cell_type": "markdown",
   "metadata": {},
   "source": [
    "That is all folks"
   ]
  },
  {
   "cell_type": "code",
   "execution_count": 83,
   "metadata": {},
   "outputs": [],
   "source": [
    "# set c = fx 2, and work with mesh. not interesting when working with linear.\n",
    "# work with boundary conditions.\n",
    "# "
   ]
  },
  {
   "cell_type": "code",
   "execution_count": 84,
   "metadata": {},
   "outputs": [
    {
     "name": "stderr",
     "output_type": "stream",
     "text": [
      "/Users/Shared/anaconda3/lib/python3.7/site-packages/ipykernel_launcher.py:3: RuntimeWarning: More than 20 figures have been opened. Figures created through the pyplot interface (`matplotlib.pyplot.figure`) are retained until explicitly closed and may consume too much memory. (To control this warning, see the rcParam `figure.max_open_warning`).\n",
      "  This is separate from the ipykernel package so we can avoid doing imports until\n"
     ]
    },
    {
     "data": {
      "application/vnd.jupyter.widget-view+json": {
       "model_id": "1fe6c5a114f841acad0fee7fd5a432e1",
       "version_major": 2,
       "version_minor": 0
      },
      "text/plain": [
       "Canvas(toolbar=Toolbar(toolitems=[('Home', 'Reset original view', 'home', 'home'), ('Back', 'Back to previous …"
      ]
     },
     "metadata": {},
     "output_type": "display_data"
    }
   ],
   "source": [
    "import matplotlib.pyplot as plt\n",
    "from mpl_toolkits.mplot3d import Axes3D\n",
    "fig = plt.figure()\n",
    "ax = fig.add_subplot(111, projection='3d')\n",
    "\n",
    "ax.plot_trisurf(V[:,0],V[:,1],T,y,cmap='hot')\n",
    "#ax.plot_trisurf(V[:,0],V[:,1],T)\n",
    "#plt.clim(0,70)\n",
    "#plt.colorbar()\n",
    "plt.show()"
   ]
  },
  {
   "cell_type": "code",
   "execution_count": 113,
   "metadata": {},
   "outputs": [
    {
     "name": "stderr",
     "output_type": "stream",
     "text": [
      "/Users/Shared/anaconda3/lib/python3.7/site-packages/ipykernel_launcher.py:107: RuntimeWarning: More than 20 figures have been opened. Figures created through the pyplot interface (`matplotlib.pyplot.figure`) are retained until explicitly closed and may consume too much memory. (To control this warning, see the rcParam `figure.max_open_warning`).\n"
     ]
    },
    {
     "data": {
      "application/vnd.jupyter.widget-view+json": {
       "model_id": "9780a0e381734ced9f80eabcb1993c36",
       "version_major": 2,
       "version_minor": 0
      },
      "text/plain": [
       "Canvas(toolbar=Toolbar(toolitems=[('Home', 'Reset original view', 'home', 'home'), ('Back', 'Back to previous …"
      ]
     },
     "metadata": {},
     "output_type": "display_data"
    }
   ],
   "source": [
    "length = 6.\n",
    "width = 2.\n",
    "res = 6\n",
    "# Experiment #3\n",
    "V, T = make_beam_mesh(length,width,(6*res,2*res))\n",
    "A = compute_triangle_areas(V,T)\n",
    "\n",
    "N = len(V) # Total number of nodes in the mesh\n",
    "E = len(T) # Total number of triangles in the mesh\n",
    "\n",
    "Ke = np.zeros((3,E*3),dtype=np.float64)\n",
    "K  = np.zeros((N,N),dtype=np.float64)\n",
    "# Experiment #2\n",
    "exp2 = 0\n",
    "f  = (np.ones((N,),dtype=np.float64))*exp2\n",
    "# as our shape function integrates to 1, hence we can set f to c.\n",
    "\n",
    "for e in range(E):\n",
    "    # Get triangle indices\n",
    "    i = T[e,0]\n",
    "    j = T[e,1]\n",
    "    k = T[e,2]\n",
    "    # Get triangle coordinates\n",
    "    xi = V[i,0]\n",
    "    xj = V[j,0]\n",
    "    xk = V[k,0]\n",
    "    yi = V[i,1]\n",
    "    yj = V[j,1]\n",
    "    yk = V[k,1]    \n",
    "    \n",
    "    # TODO - Compute element matrix and store it in Ke array\n",
    "    Area = A[e]\n",
    "    diff_i_x = -(yk-yj)/(2*Area)\n",
    "    diff_i_y = (xk-xj)/(2*Area)\n",
    "    diff_j_x = -(yi-yk)/(2*Area)\n",
    "    diff_j_y = (xi-xk)/(2*Area)\n",
    "    diff_k_x = -(yj-yi)/(2*Area)\n",
    "    diff_k_y = (xj-xi)/(2*Area)\n",
    "    xs = np.array([diff_i_x,diff_j_x,diff_k_x])\n",
    "    ys = np.array([diff_i_y,diff_j_y,diff_k_y])\n",
    "    \n",
    "    Ke[ :, (3*e):3*e+3 ] =  (np.outer(xs,xs)+np.outer(ys,ys))*Area\n",
    "\n",
    "for e in range(E):\n",
    "    # Get global triangle vertex indices\n",
    "    i = T[e,0]\n",
    "    j = T[e,1]\n",
    "    k = T[e,2]\n",
    "    # Local order of vertex coordinates is i j and k. \n",
    "    # This is how local vertex indices (0,1,2) are mapped to global vertex\n",
    "    # indices\n",
    "    gidx = [ i, j,  k]\n",
    "    \n",
    "    # TODO - do assembly of Ke into K  \n",
    "    for fst in range(3):\n",
    "        for snd in range(3):\n",
    "            K[gidx[fst],gidx[snd]] += Ke[fst,e*3+snd]\n",
    "    \n",
    "    \n",
    "\n",
    "a = 1;\n",
    "b = 1;\n",
    "\n",
    "left = np.array( np.where(V[:,0] < 0.1-(length/2)), dtype=int).flatten()\n",
    "right = np.array( np.where(V[:,0] >  (length/2)-0.1), dtype=int).flatten()\n",
    "\n",
    "#left_values = np.ones( left.shape, dtype=np.float64)*a\n",
    "# Experiment #1\n",
    "#left_values = np.linspace(0,2,left.shape[0], dtype=np.float64)*a\n",
    "left_values = np.random.uniform(0,2, left.shape[0])\n",
    "right_values = np.random.uniform(4,6, right.shape[0])\n",
    "#right_values = np.linspace(4,6,right.shape[0], dtype=np.float64)*b\n",
    "#right_values = np.ones( right.shape, dtype=np.float64)*b\n",
    "\n",
    "indices = np.hstack((left, right))\n",
    "values  = np.hstack((left_values, right_values))\n",
    "\n",
    "F = np.setdiff1d(np.arange(N), indices)\n",
    "\n",
    "for i in range(len(indices)):\n",
    "    index = indices[i]\n",
    "    value = values[i]  \n",
    "  \n",
    "    # TODO - Implement modifications for adding boundary conditions\n",
    "    #print(index,value)\n",
    "    f[index] = value\n",
    "    \n",
    "    for j in F:\n",
    "        f[j] -= K[j,index]*value\n",
    "    \n",
    "    \n",
    "    K[index] = np.zeros(K.shape[1])\n",
    "    K[:,index] = np.zeros(K.shape[0]).T\n",
    "    K[index,index] = 1\n",
    "    \n",
    "    \n",
    "\n",
    "y = np.zeros(f.shape, dtype=np.float64)\n",
    "\n",
    "y[indices] = values\n",
    "\n",
    "KFF = K[F,:][:,F]\n",
    "fF  = f[F]\n",
    "\n",
    "y[F] = np.linalg.solve(KFF, fF)\n",
    "\n",
    "fig = plt.figure()\n",
    "ax = fig.add_subplot(111, projection='3d')\n",
    "\n",
    "ax.plot_trisurf(V[:,0],V[:,1],T,y,cmap='viridis')\n",
    "plt.show()"
   ]
  },
  {
   "cell_type": "code",
   "execution_count": null,
   "metadata": {},
   "outputs": [],
   "source": []
  }
 ],
 "metadata": {
  "kernelspec": {
   "display_name": "Python 3",
   "language": "python",
   "name": "python3"
  },
  "language_info": {
   "codemirror_mode": {
    "name": "ipython",
    "version": 3
   },
   "file_extension": ".py",
   "mimetype": "text/x-python",
   "name": "python",
   "nbconvert_exporter": "python",
   "pygments_lexer": "ipython3",
   "version": "3.7.3"
  }
 },
 "nbformat": 4,
 "nbformat_minor": 2
}
